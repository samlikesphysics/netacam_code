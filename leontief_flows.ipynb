{
 "metadata": {
  "language_info": {
   "codemirror_mode": {
    "name": "ipython",
    "version": 3
   },
   "file_extension": ".py",
   "mimetype": "text/x-python",
   "name": "python",
   "nbconvert_exporter": "python",
   "pygments_lexer": "ipython3",
   "version": "3.6.10-final"
  },
  "orig_nbformat": 2,
  "kernelspec": {
   "name": "python361064bitpy36conda3f57a39a474d40cab2a06366e779d487",
   "display_name": "Python 3.6.10 64-bit ('py36': conda)",
   "language": "python"
  }
 },
 "nbformat": 4,
 "nbformat_minor": 2,
 "cells": [
  {
   "cell_type": "code",
   "execution_count": null,
   "metadata": {},
   "outputs": [],
   "source": [
    "import numpy as np\n",
    "import scripts\n",
    "import geopandas\n",
    "import matplotlib.pyplot as plt\n",
    "import stoclust as sc\n",
    "import matplotlib.lines as ln\n",
    "from tqdm import tqdm\n",
    "import os\n",
    "\n",
    "import plotly.graph_objects as go\n",
    "import scipy.linalg as la\n",
    "import scipy.special as sp"
   ]
  },
  {
   "source": [
    "# Overview"
   ],
   "cell_type": "markdown",
   "metadata": {}
  },
  {
   "source": [
    "In this notebook, we simply run the scripts which generate the technical coefficients $C_{ri,sj}$ for the null and empirical models. We then compute the Leontief inverse $L_{ri,sj} = \\left(\\mathbf{I}-\\mathbf{C}\\right)^{-1}_{ri,sj}$ using further scripts."
   ],
   "cell_type": "markdown",
   "metadata": {}
  },
  {
   "source": [
    "# Initialization"
   ],
   "cell_type": "markdown",
   "metadata": {}
  },
  {
   "source": [
    "We generate the block matrices for the technical coefficients of the null and empirical models. These will be saved to files and must be subsequently loaded."
   ],
   "cell_type": "markdown",
   "metadata": {}
  },
  {
   "cell_type": "code",
   "execution_count": null,
   "metadata": {},
   "outputs": [],
   "source": [
    "scripts.null_blocks()\n",
    "scripts.industry_blocks()"
   ]
  },
  {
   "cell_type": "code",
   "execution_count": null,
   "metadata": {},
   "outputs": [],
   "source": [
    "gtap = scripts.GTAP()\n",
    "num_reg = gtap.regions.items.size\n",
    "num_commod = gtap.commodities.items.size\n",
    "num_fac = gtap.factors.items.size"
   ]
  },
  {
   "source": [
    "Use `null` as the model name for the null model. Use `industry` as the model name for the GTAP 8 data."
   ],
   "cell_type": "markdown",
   "metadata": {}
  },
  {
   "cell_type": "code",
   "execution_count": null,
   "metadata": {},
   "outputs": [],
   "source": [
    "model = 'null'\n",
    "names = sc.Group(['D','M','F','C'])\n",
    "\n",
    "T = {\n",
    "    names[i]+names[j]: np.load('scripts/data/computed/blocks/'+model+'/'+names[i]+names[j]+'_T.npy')\n",
    "    for i in range(len(names))\n",
    "    for j in range(len(names))\n",
    "}"
   ]
  },
  {
   "source": [
    "Next, we run the Leontief inverses for the null model data and the empirical data. Since there is only one empirical outcome and many generated null model samples, this will take longer for the null model."
   ],
   "cell_type": "markdown",
   "metadata": {}
  },
  {
   "cell_type": "code",
   "execution_count": null,
   "metadata": {},
   "outputs": [],
   "source": [
    "def get_leontief(blocks,exo='C',output=False):\n",
    "    for k in range(4):\n",
    "        blocks[k][names.ind[exo]] = np.zeros(blocks[k][names.ind[exo]].shape)\n",
    "    L = scripts.divide_and_conquer(blocks,output=output)\n",
    "    return L"
   ]
  },
  {
   "cell_type": "code",
   "execution_count": null,
   "metadata": {},
   "outputs": [],
   "source": [
    "if model == 'null':\n",
    "    Ls = [[[],[],[],[]],\n",
    "          [[],[],[],[]],\n",
    "          [[],[],[],[]],\n",
    "          [[],[],[],[]]]\n",
    "    for k in tqdm(range(T['DD'].shape[0])):\n",
    "        blocks = [[T[names[i]+names[j]][k] for j in range(len(names))] for i in range(len(names))]\n",
    "        L = get_leontief(blocks)\n",
    "        for i in range(len(names)):\n",
    "            for j in range(len(names)):\n",
    "                Ls[i][j].append(L[i][j])\n",
    "    L = [\n",
    "        [np.array(Ls[i][j]) for j in range(len(names))] for i in range(len(names))\n",
    "    ]\n",
    "else:\n",
    "    blocks = [[T[names[i]+names[j]] for j in range(len(names))] for i in range(len(names))]\n",
    "    L = get_leontief(blocks,output=True)\n",
    "    \n",
    "if not os.path.isdir(os.path.abspath('scripts/data/computed/leontief')):\n",
    "    os.mkdir(os.path.abspath('scripts/data/computed/leontief'))\n",
    "if not os.path.isdir(os.path.abspath('scripts/data/computed/leontief/'+model)):\n",
    "    os.mkdir(os.path.abspath('scripts/data/computed/leontief/'+model))\n",
    "\n",
    "for i in range(4):\n",
    "    for j in range(4):\n",
    "        np.save('scripts/data/computed/leontief/'+model+'/'+names[i]+names[j]+'_L.npy',L[i][j])"
   ]
  },
  {
   "cell_type": "code",
   "execution_count": null,
   "metadata": {},
   "outputs": [],
   "source": []
  }
 ]
}